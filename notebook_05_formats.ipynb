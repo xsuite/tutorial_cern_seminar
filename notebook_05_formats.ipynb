{
 "cells": [
  {
   "cell_type": "code",
   "execution_count": 1,
   "id": "94d61a86-38c5-4b87-a1cc-de644f36fa56",
   "metadata": {},
   "outputs": [],
   "source": [
    "%matplotlib widget"
   ]
  },
  {
   "cell_type": "code",
   "execution_count": 2,
   "id": "88b6850b-92e1-466e-aae3-1e45ec225778",
   "metadata": {},
   "outputs": [],
   "source": [
    "import xtrack as xt"
   ]
  },
  {
   "cell_type": "markdown",
   "id": "cd6b5f02-75a4-4786-8630-336f8f3275d2",
   "metadata": {},
   "source": [
    "### Lattice defined in a programmatic way (python)"
   ]
  },
  {
   "cell_type": "markdown",
   "id": "50332e2d-5e0c-4942-89d3-de04deb17c52",
   "metadata": {},
   "source": [
    "This is like in MAD-X. The lattice and the strengths are defined as pyhon scripts (which can include logic, comments, etc.).\n",
    "It works well also on large lattices, see for example [lhc_seq.py](https://raw.githubusercontent.com/xsuite/xtrack/refs/heads/main/examples/lhc_native_python/lhc_seq.py) (we plan to generate these files directly from the layout database and make them available in the acc-models repository)."
   ]
  },
  {
   "cell_type": "code",
   "execution_count": 3,
   "id": "c5335d08-6120-4f36-84cb-58f3590e0abd",
   "metadata": {},
   "outputs": [],
   "source": [
    "%%capture\n",
    "env = xt.Environment()        # Create an environment\n",
    "\n",
    "env.call('pimm_seq.py')       # Load lattice\n",
    "env.call('pimm_strengths.py') # Load optics"
   ]
  },
  {
   "cell_type": "code",
   "execution_count": 4,
   "id": "a7582b10-408e-40f7-9922-7aa59cf6b0f6",
   "metadata": {},
   "outputs": [
    {
     "data": {
      "text/plain": [
       "TwissTable: 8 rows, 5 cols\n",
       "name              s          betx          bety            dx\n",
       "qfa.0        2.2125       9.53142       4.10532   1.80855e-05\n",
       "qfa.1        8.1525       12.3793       4.86072       2.47195\n",
       "qfa.2       28.1175        12.995       4.44476       2.73962\n",
       "qfa.3       34.0575       9.24421       4.54585   1.77093e-05\n",
       "qfa.4       36.8325       9.53142       4.10532   1.80813e-05\n",
       "qfa.5       42.7725       12.3793       4.86072       2.47195\n",
       "qfa.6       62.7375        12.995       4.44476       2.73962\n",
       "qfa.7       68.6775       9.24421       4.54585   1.77056e-05"
      ]
     },
     "execution_count": 4,
     "metadata": {},
     "output_type": "execute_result"
    }
   ],
   "source": [
    "tw = env.ring.twiss4d()                 # Twiss \n",
    "tw.rows['qfa.*'].cols['s betx bety dx'] # Get optics at selected locations"
   ]
  },
  {
   "cell_type": "markdown",
   "id": "b7feaff2-d5fa-42b0-b2a7-3b555e9a5023",
   "metadata": {},
   "source": [
    "### Lattice stored as json"
   ]
  },
  {
   "cell_type": "code",
   "execution_count": 5,
   "id": "9ef753b8-ade4-49b7-9bbc-443b59b00947",
   "metadata": {},
   "outputs": [
    {
     "data": {
      "application/vnd.jupyter.widget-view+json": {
       "model_id": "ead34d96fd8d494c873484e47a19aaad",
       "version_major": 2,
       "version_minor": 0
      },
      "text/plain": [
       "Loading line from dict:   0%|          | 0/145 [00:00<?, ?it/s]"
      ]
     },
     "metadata": {},
     "output_type": "display_data"
    },
    {
     "name": "stdout",
     "output_type": "stream",
     "text": [
      "Done loading line from dict.           \n"
     ]
    }
   ],
   "source": [
    "env = xt.Environment.from_json('pimm.json') # Load lattice\n",
    "env.vars.load_json('pimm_strengths.json')   # Load optics"
   ]
  },
  {
   "cell_type": "code",
   "execution_count": 6,
   "id": "3321a27c-fd25-4753-831f-f13a0bceed10",
   "metadata": {},
   "outputs": [
    {
     "data": {
      "text/plain": [
       "TwissTable: 8 rows, 5 cols\n",
       "name              s          betx          bety            dx\n",
       "qfa.0        2.2125       9.53142       4.10532   1.80855e-05\n",
       "qfa.1        8.1525       12.3793       4.86072       2.47195\n",
       "qfa.2       28.1175        12.995       4.44476       2.73962\n",
       "qfa.3       34.0575       9.24421       4.54585   1.77093e-05\n",
       "qfa.4       36.8325       9.53142       4.10532   1.80813e-05\n",
       "qfa.5       42.7725       12.3793       4.86072       2.47195\n",
       "qfa.6       62.7375        12.995       4.44476       2.73962\n",
       "qfa.7       68.6775       9.24421       4.54585   1.77056e-05"
      ]
     },
     "execution_count": 6,
     "metadata": {},
     "output_type": "execute_result"
    }
   ],
   "source": [
    "tw = env.ring.twiss4d()                 # Twiss \n",
    "tw.rows['qfa.*'].cols['s betx bety dx'] # Get optics at selected locations"
   ]
  },
  {
   "cell_type": "markdown",
   "id": "e9cf9d5f-a127-4727-bc1b-699f1670833e",
   "metadata": {},
   "source": [
    "### Load existing MAD-X sequence sequence optics files (without MADX/cpymad)\n",
    "\n",
    "MAD-X files containing only data (e.g. sequence and optics files from repositories) are compatible with Xsuite and can be read directly. This feature will be maintained also after MAD-X support discontinuation."
   ]
  },
  {
   "cell_type": "code",
   "execution_count": 62,
   "id": "715fda34-d11c-4577-b3df-4b9e41302da0",
   "metadata": {},
   "outputs": [],
   "source": [
    "env = xt.load_madx_lattice('./PIMM.seq')                    # Load lattice\n",
    "env.vars.load_madx('pimm_strengths.madx')                   # Load optics\n",
    "env.ring.particle_ref = xt.Particles(kinetic_energy0=200e6) # Define ref. particle"
   ]
  },
  {
   "cell_type": "code",
   "execution_count": 63,
   "id": "4fb3246f-da71-46c4-b91f-1fe270c3090c",
   "metadata": {},
   "outputs": [
    {
     "data": {
      "text/plain": [
       "TwissTable: 8 rows, 5 cols\n",
       "name              s          betx          bety            dx\n",
       "qfa.1        2.2125       8.54912       4.65644     -0.240056\n",
       "qfa.2        8.1525       14.7618       10.8065       2.37992\n",
       "qfa.3       28.9425       15.5887       9.76334       2.62585\n",
       "qfa.4       34.8825       8.41509       5.92293     -0.288397\n",
       "qfa.5       39.8325       8.54912       4.65644     -0.240056\n",
       "qfa.6       45.7725       14.7618       10.8065       2.37992\n",
       "qfa.7       66.5625       15.5887       9.76334       2.62585\n",
       "qfa.8       72.5025       8.41509       5.92293     -0.288397"
      ]
     },
     "execution_count": 63,
     "metadata": {},
     "output_type": "execute_result"
    }
   ],
   "source": [
    "tw = env.ring.twiss4d()                 # Twiss \n",
    "tw.rows['qfa.*'].cols['s betx bety dx'] # Get optics at selected locations"
   ]
  },
  {
   "cell_type": "markdown",
   "id": "6b386d7c-4691-4b50-8143-3b7220e86c3d",
   "metadata": {},
   "source": [
    "### Use MAD-X itself through cpymad to read the file and import to Xsuite\n",
    "‼️ This supports any MAD-X script. It will be discontinued when MAD-X support will end (~2029)\n"
   ]
  },
  {
   "cell_type": "code",
   "execution_count": 66,
   "id": "25354df1-58cf-4d31-9e62-3a0bc0f670b7",
   "metadata": {},
   "outputs": [
    {
     "name": "stdout",
     "output_type": "stream",
     "text": [
      "\n",
      "  ++++++++++++++++++++++++++++++++++++++++++++\n",
      "  +     MAD-X 5.09.02  (64 bit, Darwin)      +\n",
      "  + Support: mad@cern.ch, http://cern.ch/mad +\n",
      "  + Release   date: 2024.04.18               +\n",
      "  + Execution date: 2025.02.19 14:18:58      +\n",
      "  ++++++++++++++++++++++++++++++++++++++++++++\n",
      "! Based on CERN-PS-99-010-DI, TERA Foundation\n",
      "\n",
      "\n",
      "\n",
      "mb:  sbend, l=1.661, angle=0.3926990817, e1=0.19634954085, e2=0.19634954085;\n",
      "\n",
      "qfa: quadrupole, l=2*0.175, k1:= kqfa;\n",
      "\n",
      "qd:  quadrupole, l=2*0.175, k1:= kqd;\n",
      "\n",
      "qfb: quadrupole, l=2*0.175, k1:= kqfb;\n",
      "\n",
      "\n",
      "\n",
      "sd1: sextupole, l=0.2, k2:=ksd;\n",
      "\n",
      "sf1: sextupole, l=0.2, k2:=ksf;\n",
      "\n",
      "sd2: sextupole, l=0.2, k2:=ksd;\n",
      "\n",
      "sf2: sextupole, l=0.2, k2:=ksf;\n",
      "\n",
      "se1: sextupole, l=0.2, k2:=kse;\n",
      "\n",
      "\n",
      "\n",
      "cav: rfcavity, volt:=vrf, freq:=frf, lag=0;\n",
      "\n",
      "\n",
      "\n",
      "ring:sequence,refer=centre,l=75.24;\n",
      "\n",
      "              extr_septum: marker, at=0.0;\n",
      "\n",
      "              qfa.1: qfa, at=2.3875;\n",
      "\n",
      "              mb, at=3.8125;\n",
      "\n",
      "              qd.1: qd, at=5.2925;\n",
      "\n",
      "              mb, at=7.0475;\n",
      "\n",
      "              qfa.2: qfa, at=8.3275;\n",
      "\n",
      "              sd1, at=10.29;\n",
      "\n",
      "              qfb.1: qfb, at=10.6775;\n",
      "\n",
      "              mb, at=12.1325;\n",
      "\n",
      "              qd.2: qd, at=14.2625;\n",
      "\n",
      "              mb, at=15.9175;\n",
      "\n",
      "              qfb.2: qfb, at=17.1975;\n",
      "\n",
      "              qfb.3: qfb, at=20.2475;\n",
      "\n",
      "              mb, at=21.7025;\n",
      "\n",
      "              qd.3: qd, at=23.1825;\n",
      "\n",
      "              sf1, at=24.045;\n",
      "\n",
      "              mb, at=25.4875;\n",
      "\n",
      "              qfb.4: qfb, at=26.7675;\n",
      "\n",
      "              qfa.3: qfa, at=29.1175;\n",
      "\n",
      "              mb, at=30.5725;\n",
      "\n",
      "              qd.4: qd, at=32.1525;\n",
      "\n",
      "              mb, at=33.8075;\n",
      "\n",
      "              qfa.4: qfa, at=35.0575;\n",
      "\n",
      "              cav, at=37.7;\n",
      "\n",
      "              se1, at=40.0075 - 0.6;\n",
      "\n",
      "              qfa.5: qfa, at=40.0075;\n",
      "\n",
      "              mb, at=41.4325;\n",
      "\n",
      "              qd.5: qd, at=42.9125;\n",
      "\n",
      "              mb, at=44.6675;\n",
      "\n",
      "              qfa.6: qfa, at=45.9475;\n",
      "\n",
      "              sd2, at=47.91;\n",
      "\n",
      "              qfb.5: qfb, at=48.2975;\n",
      "\n",
      "              mb, at=49.7525;\n",
      "\n",
      "              qd.6: qd, at=51.8825;\n",
      "\n",
      "              mb, at=53.5375;\n",
      "\n",
      "              qfb.6: qfb, at=54.8175;\n",
      "\n",
      "              qfb.7: qfb, at=57.8675;\n",
      "\n",
      "              mb, at=59.3225;\n",
      "\n",
      "              qd.7: qd, at=60.8025;\n",
      "\n",
      "              sf2, at=61.665;\n",
      "\n",
      "              mb, at=63.1075;\n",
      "\n",
      "              qfb.8: qfb, at=64.3875;\n",
      "\n",
      "              qfa.7: qfa, at=66.7375;\n",
      "\n",
      "              mb, at=68.1925;\n",
      "\n",
      "              qd.8: qd, at=69.7725;\n",
      "\n",
      "              mb, at=71.4275;\n",
      "\n",
      "              qfa.8: qfa, at=72.6775;\n",
      "\n",
      "endsequence;\n",
      "\n",
      "\n",
      "\n",
      "! Quadrupole circuits\n",
      "\n",
      "kqfa = 0.3370599717739164;\n",
      "\n",
      "kqfb = 0.5462953319567254;\n",
      "\n",
      "kqd =  -0.5876756866270778;\n",
      "\n",
      "\n",
      "\n",
      "! Sextupole circuits\n",
      "\n",
      "ksf =  0.5853219204643684;\n",
      "\n",
      "ksd =  -0.7811929408248136;\n",
      "\n",
      "\n",
      "\n",
      "! Extraction_knob\n",
      "\n",
      "on_extr = 0.0;\n",
      "\n",
      "kse_ref = 5.68732;\n",
      "\n",
      "kse = on_extr * kse_ref;\n",
      "\n"
     ]
    },
    {
     "data": {
      "application/vnd.jupyter.widget-view+json": {
       "model_id": "314a1bdc5b8b4aafb83a5a751f375423",
       "version_major": 2,
       "version_minor": 0
      },
      "text/plain": [
       "Converting sequence \"ring\":   0%|          | 0/96 [00:00<?, ?it/s]"
      ]
     },
     "metadata": {},
     "output_type": "display_data"
    }
   ],
   "source": [
    "from cpymad.madx import Madx\n",
    "madx = Madx()\n",
    "madx.call('PIMM.seq')\n",
    "madx.call('pimm_strengths.madx')\n",
    "madx.beam()\n",
    "madx.use('ring')\n",
    "\n",
    "# Load cpymad sequence object as Xsuite line\n",
    "ring = xt.Line.from_madx_sequence(madx.sequence.ring, deferred_expressions=True)\n",
    "ring.particle_ref = xt.Particles(kinetic_energy0=200e6)"
   ]
  },
  {
   "cell_type": "code",
   "execution_count": 67,
   "id": "41947e3b-ccb5-449c-b06f-e83ed227b594",
   "metadata": {},
   "outputs": [
    {
     "data": {
      "text/plain": [
       "TwissTable: 8 rows, 5 cols\n",
       "name              s          betx          bety            dx\n",
       "qfa.1        2.2125       8.54912       4.65644     -0.240056\n",
       "qfa.2        8.1525       14.7618       10.8065       2.37992\n",
       "qfa.3       28.9425       15.5887       9.76334       2.62585\n",
       "qfa.4       34.8825       8.41509       5.92293     -0.288397\n",
       "qfa.5       39.8325       8.54912       4.65644     -0.240056\n",
       "qfa.6       45.7725       14.7618       10.8065       2.37992\n",
       "qfa.7       66.5625       15.5887       9.76334       2.62585\n",
       "qfa.8       72.5025       8.41509       5.92293     -0.288397"
      ]
     },
     "execution_count": 67,
     "metadata": {},
     "output_type": "execute_result"
    }
   ],
   "source": [
    "tw = ring.twiss4d()                     # Twiss \n",
    "tw.rows['qfa.*'].cols['s betx bety dx'] # Get optics at selected locations"
   ]
  },
  {
   "cell_type": "code",
   "execution_count": null,
   "id": "7b59bc21-0914-4f19-a287-f87ebcb949c0",
   "metadata": {},
   "outputs": [],
   "source": []
  },
  {
   "cell_type": "code",
   "execution_count": null,
   "id": "ed0dffa2-f566-41a4-aa2c-44d8777de408",
   "metadata": {},
   "outputs": [],
   "source": []
  }
 ],
 "metadata": {
  "kernelspec": {
   "display_name": "Python 3 (ipykernel)",
   "language": "python",
   "name": "python3"
  },
  "language_info": {
   "codemirror_mode": {
    "name": "ipython",
    "version": 3
   },
   "file_extension": ".py",
   "mimetype": "text/x-python",
   "name": "python",
   "nbconvert_exporter": "python",
   "pygments_lexer": "ipython3",
   "version": "3.11.7"
  }
 },
 "nbformat": 4,
 "nbformat_minor": 5
}
