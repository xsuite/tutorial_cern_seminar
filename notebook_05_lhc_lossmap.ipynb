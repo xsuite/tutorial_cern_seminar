{
 "cells": [
  {
   "cell_type": "markdown",
   "id": "33000148-5a1a-4be9-a862-0abe73f403cb",
   "metadata": {},
   "source": [
    "# LHC collimation study"
   ]
  },
  {
   "cell_type": "code",
   "execution_count": 13,
   "id": "8935728f-1568-454f-8899-83445db23632",
   "metadata": {},
   "outputs": [],
   "source": [
    "import numpy as np\n",
    "from pathlib import Path\n",
    "\n",
    "import xobjects as xo\n",
    "import xtrack as xt\n",
    "import xcoll as xc"
   ]
  },
  {
   "cell_type": "markdown",
   "id": "c96a6ebe-e110-4872-8c99-210c223a26e1",
   "metadata": {},
   "source": [
    "### Import a line"
   ]
  },
  {
   "cell_type": "code",
   "execution_count": 14,
   "id": "e20c3d7b-fc99-4c0c-8b43-36a2ca347528",
   "metadata": {},
   "outputs": [
    {
     "data": {
      "application/vnd.jupyter.widget-view+json": {
       "model_id": "559f39d61a904e10bb21aa6bca732c06",
       "version_major": 2,
       "version_minor": 0
      },
      "text/plain": [
       "Loading line from dict:   0%|          | 0/102795 [00:00<?, ?it/s]"
      ]
     },
     "metadata": {},
     "output_type": "display_data"
    },
    {
     "name": "stdout",
     "output_type": "stream",
     "text": [
      "Done loading line from dict.           \n"
     ]
    }
   ],
   "source": [
    "line = xt.Line.from_json('lhc_run3_b1.json')"
   ]
  },
  {
   "cell_type": "markdown",
   "id": "03300695-0d08-48ae-a098-82cb094554c0",
   "metadata": {},
   "source": [
    "### Install and configure collimators using `xcoll`"
   ]
  },
  {
   "cell_type": "code",
   "execution_count": 15,
   "id": "cda8bb97-7bca-43bd-8b5a-ad6613994655",
   "metadata": {},
   "outputs": [
    {
     "name": "stdout",
     "output_type": "stream",
     "text": [
      "Installing tcsg.5l3.b1          as EverestCollimator\n",
      "Installing tcspm.b4l7.b1        as EverestCollimator\n",
      "Installing tcp.d6l7.b1          as EverestCollimator\n",
      "Installing tcsg.b5l7.b1         as EverestCollimator\n",
      "Installing tctph.4l1.b1         as EverestCollimator\n",
      "Installing tcsg.4r3.b1          as EverestCollimator\n",
      "Installing tctph.4l5.b1         as EverestCollimator\n",
      "Installing tcp.6l3.b1           as EverestCollimator\n",
      "Installing tctpv.4l5.b1         as EverestCollimator\n",
      "Installing tctpv.4l1.b1         as EverestCollimator\n",
      "Installing tcp.c6l7.b1          as EverestCollimator\n"
     ]
    },
    {
     "data": {
      "application/vnd.jupyter.widget-view+json": {
       "model_id": "711ad8d6d9754622b9ce913597014610",
       "version_major": 2,
       "version_minor": 0
      },
      "text/plain": [
       "Slicing line:   0%|          | 0/102795 [00:00<?, ?it/s]"
      ]
     },
     "metadata": {},
     "output_type": "display_data"
    }
   ],
   "source": [
    "colldb = xc.CollimatorDatabase.from_yaml('collimators_simplified.yaml', beam='1')\n",
    "colldb.install_everest_collimators(line=line, verbose=True)"
   ]
  },
  {
   "cell_type": "markdown",
   "id": "656d6bb0-01ba-42cc-af38-4d600e6d7e82",
   "metadata": {},
   "source": [
    "#### Aperture sanity check"
   ]
  },
  {
   "cell_type": "code",
   "execution_count": 16,
   "id": "92fba881-b370-4d5d-9cfc-bd9c6ad9eebe",
   "metadata": {},
   "outputs": [
    {
     "data": {
      "application/vnd.jupyter.widget-view+json": {
       "model_id": "ead710932af24c378616479e71d4ce55",
       "version_major": 2,
       "version_minor": 0
      },
      "text/plain": [
       "Checking aperture:   0%|          | 0/102784 [00:00<?, ?it/s]"
      ]
     },
     "metadata": {},
     "output_type": "display_data"
    },
    {
     "name": "stdout",
     "output_type": "stream",
     "text": [
      "Done checking aperture.           \n",
      "0 thin elements miss associated aperture (upstream):\n",
      "[]\n",
      "0 thick elements miss associated aperture (upstream or downstream):\n",
      "[]\n"
     ]
    }
   ],
   "source": [
    "df_with_coll = line.check_aperture()"
   ]
  },
  {
   "cell_type": "markdown",
   "id": "452cf615-f797-49a6-b945-ee78e7b6218c",
   "metadata": {},
   "source": [
    "#### Set collimators gaps (optics computed internally)"
   ]
  },
  {
   "cell_type": "code",
   "execution_count": 17,
   "id": "215f2468-61ce-44fc-af30-48941bcf4867",
   "metadata": {},
   "outputs": [],
   "source": [
    "line.build_tracker()\n",
    "line.collimators.assign_optics()"
   ]
  },
  {
   "cell_type": "markdown",
   "id": "74ee7e06-605f-474f-87f0-0d24d02f50ff",
   "metadata": {},
   "source": [
    "#### Simulate impact of a pencil beam on the jaws of a given collimator"
   ]
  },
  {
   "cell_type": "code",
   "execution_count": null,
   "id": "c799519f-933b-4a07-9d34-e0d3b46f8bac",
   "metadata": {},
   "outputs": [
    {
     "name": "stdout",
     "output_type": "stream",
     "text": [
      "Collimator tcp.c6l7.b1 is converging.\n"
     ]
    }
   ],
   "source": [
    "# Generate distribution\n",
    "tcp  = 'tcp.c6l7.b1'\n",
    "part = line[tcp].generate_pencil(num_particles=int(5e4))"
   ]
  },
  {
   "cell_type": "code",
   "execution_count": null,
   "id": "b55e028a-4914-4389-a244-5064675665a4",
   "metadata": {},
   "outputs": [],
   "source": [
    "# Enable multicore CPU parallelization\n",
    "line.discard_tracker()\n",
    "line.build_tracker(_context=xo.ContextCpu(omp_num_threads='auto'))"
   ]
  },
  {
   "cell_type": "code",
   "execution_count": null,
   "id": "8da19a05-04ef-486e-9952-e8a6e8d52e53",
   "metadata": {},
   "outputs": [],
   "source": [
    "# Track\n",
    "line.scattering.enable()\n",
    "line.track(part, num_turns=30, with_progress=1)"
   ]
  },
  {
   "cell_type": "markdown",
   "id": "8ac2a123-302a-43ae-91da-b10eb4e9363d",
   "metadata": {},
   "source": [
    "#### Analysis of tracking results - loss maps"
   ]
  },
  {
   "cell_type": "code",
   "execution_count": null,
   "id": "3887d227-3064-4420-954c-bc4181e17c5d",
   "metadata": {},
   "outputs": [],
   "source": [
    "# Disable scattering and multi-core parallilization\n",
    "line.scattering.disable()\n",
    "line.discard_tracker() # discard parallel tracker\n",
    "line.build_tracker()   # build default tracker"
   ]
  },
  {
   "cell_type": "code",
   "execution_count": null,
   "id": "f7f887ef-7c21-4af0-bb05-c12c4c10073b",
   "metadata": {},
   "outputs": [],
   "source": [
    "%%capture\n",
    "ThisLM = xc.LossMap(line, line_is_reversed=False, part=part)\n",
    "ThisLM.to_json(file='mylossmap.json')"
   ]
  },
  {
   "cell_type": "markdown",
   "id": "8460bb5e-df31-4dfd-9c08-779648678b7b",
   "metadata": {},
   "source": [
    "#### Plot (same tool as for measured loss-map)"
   ]
  },
  {
   "cell_type": "code",
   "execution_count": null,
   "id": "9ed5b9b0-0057-402e-8b4c-bece282cb8f0",
   "metadata": {},
   "outputs": [],
   "source": [
    "%%capture\n",
    "import lossmaps as lm\n",
    "lmap = lm.SimulatedLossMap(lmtype=lm.LMType['B1H'], machine=lm.Machine.LHC, energy=6800, particle=lm.Particle.PROTON)\n",
    "lmap.load_data_json(json_files='mylossmap.json')"
   ]
  },
  {
   "cell_type": "code",
   "execution_count": null,
   "id": "bbac285b-b912-4900-9b1a-bcf61d1f6a64",
   "metadata": {},
   "outputs": [],
   "source": [
    "# Plot the loss map\n",
    "_ = lm.plot_lossmap(lmap)"
   ]
  },
  {
   "cell_type": "code",
   "execution_count": null,
   "id": "184cbed5-bc86-4ecc-98b1-a68061dfa7a7",
   "metadata": {},
   "outputs": [],
   "source": []
  }
 ],
 "metadata": {
  "kernelspec": {
   "display_name": "Python 3 (ipykernel)",
   "language": "python",
   "name": "python3"
  },
  "language_info": {
   "codemirror_mode": {
    "name": "ipython",
    "version": 3
   },
   "file_extension": ".py",
   "mimetype": "text/x-python",
   "name": "python",
   "nbconvert_exporter": "python",
   "pygments_lexer": "ipython3",
   "version": "3.11.7"
  }
 },
 "nbformat": 4,
 "nbformat_minor": 5
}
